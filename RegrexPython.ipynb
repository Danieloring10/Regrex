{
 "cells": [
  {
   "cell_type": "markdown",
   "metadata": {},
   "source": [
    "Validación de datos"
   ]
  },
  {
   "cell_type": "code",
   "execution_count": 37,
   "metadata": {},
   "outputs": [
    {
     "name": "stdout",
     "output_type": "stream",
     "text": [
      "usuario@dominio.com: es válido\n",
      "a355898@alumnosuaslp.com.mx: es válido\n",
      "JuanGabriel123: no es válido\n",
      "jose: no es válido\n"
     ]
    }
   ],
   "source": [
    "import re\n",
    "\n",
    "patron_email = r'[a-zA-Z0-9._%+-]+@[a-zA-Z0-9.-]+\\.[a-zA-Z]{2,}'\n",
    "emails = {\"usuario@dominio.com\",\"jose\", \"a355898@alumnosuaslp.com.mx\",\"JuanGabriel123\"}\n",
    "\n",
    "for obj in emails:    \n",
    "    if re.match(patron_email, obj):\n",
    "        print( obj + \": es válido\")\n",
    "    else:\n",
    "        print(obj + \": no es válido\")\n"
   ]
  },
  {
   "cell_type": "markdown",
   "metadata": {},
   "source": [
    "Busqueda y Extracción de patrones"
   ]
  },
  {
   "cell_type": "code",
   "execution_count": 38,
   "metadata": {},
   "outputs": [
    {
     "name": "stdout",
     "output_type": "stream",
     "text": [
      "['7', '4578']\n"
     ]
    }
   ],
   "source": [
    "texto = \"Juan tiene 7 peras y alberto odia el número 4578\"\n",
    "\n",
    "patron_numeros = r'\\d+'\n",
    "numeros = re.findall(patron_numeros, texto)\n",
    "print(numeros)  \n"
   ]
  },
  {
   "cell_type": "markdown",
   "metadata": {},
   "source": [
    "Sustitución de Texto"
   ]
  },
  {
   "cell_type": "code",
   "execution_count": 39,
   "metadata": {},
   "outputs": [
    {
     "name": "stdout",
     "output_type": "stream",
     "text": [
      "Hola 2024 Soy usuario 1 \n",
      "Juanito\n"
     ]
    }
   ],
   "source": [
    "texto1 = \"Hola@2024! Soy usuario#1.\"\n",
    "texto2 = \"J- :=)    ??u??   .-.  a  ^.^ ni  @.@t    //--//o\"\n",
    "\n",
    "patron_caracteres = r'\\W+'\n",
    "nuevo_texto1 = re.sub(patron_caracteres, ' ', texto1)\n",
    "nuevo_texto2 = re.sub(patron_caracteres, '', texto2)\n",
    "print(nuevo_texto1)\n",
    "print(nuevo_texto2) \n"
   ]
  },
  {
   "cell_type": "markdown",
   "metadata": {},
   "source": [
    "División de cadenas de texto"
   ]
  },
  {
   "cell_type": "code",
   "execution_count": 40,
   "metadata": {},
   "outputs": [
    {
     "name": "stdout",
     "output_type": "stream",
     "text": [
      "['Python', 'es', 'un', 'lenguaje', '']\n"
     ]
    }
   ],
   "source": [
    "texto = \"Python    es    un  lenguaje \"\n",
    "\n",
    "palabras = re.split(r'\\s+', texto)\n",
    "print(palabras)  \n"
   ]
  },
  {
   "cell_type": "markdown",
   "metadata": {},
   "source": [
    "Limpiar y normalizar datos"
   ]
  },
  {
   "cell_type": "code",
   "execution_count": 41,
   "metadata": {},
   "outputs": [
    {
     "name": "stdout",
     "output_type": "stream",
     "text": [
      "Nooo Así es como le hablas deberias comportarte\n",
      "Sabias que las zanhaorias son malvadas?\n"
     ]
    }
   ],
   "source": [
    "texto1 = \"¡Nooo! ¿Así es como le hablas? deberias, comportarte!!!!\"\n",
    "texto2 = \"Sabi2as qu483e l243a5s 76za768nh767a10or87987ia712s son235 656mal7686v12adas?\"\n",
    "\n",
    "patron_puntuacion = r'[^\\w\\s]'\n",
    "texto_limpio1 = re.sub(patron_puntuacion, '', texto1)\n",
    "texto_limpio2 = re.sub(patron_numeros, '', texto2)\n",
    "print(texto_limpio1)\n",
    "print(texto_limpio2)  \n"
   ]
  }
 ],
 "metadata": {
  "kernelspec": {
   "display_name": "Python 3",
   "language": "python",
   "name": "python3"
  },
  "language_info": {
   "codemirror_mode": {
    "name": "ipython",
    "version": 3
   },
   "file_extension": ".py",
   "mimetype": "text/x-python",
   "name": "python",
   "nbconvert_exporter": "python",
   "pygments_lexer": "ipython3",
   "version": "3.11.9"
  }
 },
 "nbformat": 4,
 "nbformat_minor": 2
}
